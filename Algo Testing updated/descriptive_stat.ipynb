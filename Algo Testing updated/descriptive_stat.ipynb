{
 "cells": [
  {
   "cell_type": "code",
   "execution_count": 1,
   "metadata": {},
   "outputs": [
    {
     "data": {
      "text/html": [
       "<div>\n",
       "<style scoped>\n",
       "    .dataframe tbody tr th:only-of-type {\n",
       "        vertical-align: middle;\n",
       "    }\n",
       "\n",
       "    .dataframe tbody tr th {\n",
       "        vertical-align: top;\n",
       "    }\n",
       "\n",
       "    .dataframe thead th {\n",
       "        text-align: right;\n",
       "    }\n",
       "</style>\n",
       "<table border=\"1\" class=\"dataframe\">\n",
       "  <thead>\n",
       "    <tr style=\"text-align: right;\">\n",
       "      <th></th>\n",
       "      <th>Questions</th>\n",
       "      <th>Answers</th>\n",
       "    </tr>\n",
       "  </thead>\n",
       "  <tbody>\n",
       "    <tr>\n",
       "      <th>0</th>\n",
       "      <td>What are the early signs of pregnancy?</td>\n",
       "      <td>The most common sign of pregnancy is a missin...</td>\n",
       "    </tr>\n",
       "    <tr>\n",
       "      <th>1</th>\n",
       "      <td>Early signs of pregnancy.</td>\n",
       "      <td>The most common sign of pregnancy is a missin...</td>\n",
       "    </tr>\n",
       "    <tr>\n",
       "      <th>2</th>\n",
       "      <td>What are the symptoms of pregnancy?</td>\n",
       "      <td>The most common sign of pregnancy is a missin...</td>\n",
       "    </tr>\n",
       "    <tr>\n",
       "      <th>3</th>\n",
       "      <td>Signs of pregnancy.</td>\n",
       "      <td>The most common sign of pregnancy is a missin...</td>\n",
       "    </tr>\n",
       "    <tr>\n",
       "      <th>4</th>\n",
       "      <td>Common signs of pregnancy</td>\n",
       "      <td>The most common sign of pregnancy is a missin...</td>\n",
       "    </tr>\n",
       "  </tbody>\n",
       "</table>\n",
       "</div>"
      ],
      "text/plain": [
       "                                Questions  \\\n",
       "0  What are the early signs of pregnancy?   \n",
       "1               Early signs of pregnancy.   \n",
       "2     What are the symptoms of pregnancy?   \n",
       "3                     Signs of pregnancy.   \n",
       "4               Common signs of pregnancy   \n",
       "\n",
       "                                             Answers  \n",
       "0   The most common sign of pregnancy is a missin...  \n",
       "1   The most common sign of pregnancy is a missin...  \n",
       "2   The most common sign of pregnancy is a missin...  \n",
       "3   The most common sign of pregnancy is a missin...  \n",
       "4   The most common sign of pregnancy is a missin...  "
      ]
     },
     "execution_count": 1,
     "metadata": {},
     "output_type": "execute_result"
    }
   ],
   "source": [
    "import pandas as pd\n",
    "import numpy as np\n",
    "\n",
    "dataset = pd.read_csv('preggybot_ds.csv', encoding= 'unicode_escape')\n",
    "dataset.head()"
   ]
  },
  {
   "cell_type": "code",
   "execution_count": 2,
   "metadata": {},
   "outputs": [
    {
     "data": {
      "text/html": [
       "<div>\n",
       "<style scoped>\n",
       "    .dataframe tbody tr th:only-of-type {\n",
       "        vertical-align: middle;\n",
       "    }\n",
       "\n",
       "    .dataframe tbody tr th {\n",
       "        vertical-align: top;\n",
       "    }\n",
       "\n",
       "    .dataframe thead th {\n",
       "        text-align: right;\n",
       "    }\n",
       "</style>\n",
       "<table border=\"1\" class=\"dataframe\">\n",
       "  <thead>\n",
       "    <tr style=\"text-align: right;\">\n",
       "      <th></th>\n",
       "      <th>Questions</th>\n",
       "      <th>Answers</th>\n",
       "    </tr>\n",
       "  </thead>\n",
       "  <tbody>\n",
       "    <tr>\n",
       "      <th>count</th>\n",
       "      <td>1386</td>\n",
       "      <td>1386</td>\n",
       "    </tr>\n",
       "    <tr>\n",
       "      <th>unique</th>\n",
       "      <td>1349</td>\n",
       "      <td>112</td>\n",
       "    </tr>\n",
       "    <tr>\n",
       "      <th>top</th>\n",
       "      <td>\"fatigue\",</td>\n",
       "      <td>\"Oh I see! What else are you feeling aside fro...</td>\n",
       "    </tr>\n",
       "    <tr>\n",
       "      <th>freq</th>\n",
       "      <td>3</td>\n",
       "      <td>46</td>\n",
       "    </tr>\n",
       "  </tbody>\n",
       "</table>\n",
       "</div>"
      ],
      "text/plain": [
       "         Questions                                            Answers\n",
       "count         1386                                               1386\n",
       "unique        1349                                                112\n",
       "top     \"fatigue\",  \"Oh I see! What else are you feeling aside fro...\n",
       "freq             3                                                 46"
      ]
     },
     "execution_count": 2,
     "metadata": {},
     "output_type": "execute_result"
    }
   ],
   "source": [
    "dataset.describe(include=['object'])"
   ]
  },
  {
   "cell_type": "code",
   "execution_count": 3,
   "metadata": {},
   "outputs": [],
   "source": [
    "#value_counts(), applies on pandas series, so use single braket.\n",
    "\n",
    "ques_stat = dataset['Questions'].value_counts()\n"
   ]
  },
  {
   "cell_type": "code",
   "execution_count": 4,
   "metadata": {},
   "outputs": [
    {
     "name": "stdout",
     "output_type": "stream",
     "text": [
      "mean 1.027427724240178\n",
      "std 0.17222831398701022\n",
      "min 1\n",
      "std 0.17222831398701022\n",
      "max 3\n",
      "median 1.0\n"
     ]
    }
   ],
   "source": [
    "# to perform the descriptive stats\n",
    "\n",
    "print ('mean',ques_stat.mean())\n",
    "print ('std',ques_stat.std())\n",
    "print ('min',ques_stat.min())\n",
    "print ('std',ques_stat.std())\n",
    "print ('max',ques_stat.max())\n",
    "print ('median',ques_stat.median())"
   ]
  },
  {
   "cell_type": "code",
   "execution_count": 5,
   "metadata": {},
   "outputs": [
    {
     "name": "stdout",
     "output_type": "stream",
     "text": [
      "25th percentile:  1.0\n",
      "50th percentile:  0.0\n",
      "75th percentile:  1.0\n"
     ]
    }
   ],
   "source": [
    "#calculate interquartile range (IQR)\n",
    "\n",
    "q3, q1 = np.percentile(ques_stat, [75 ,25])\n",
    "\n",
    "iqr = q3 - q1\n",
    "\n",
    "#display interquartile range \n",
    "\n",
    "print('25th percentile: ',q1)\n",
    "print('50th percentile: ',iqr)\n",
    "print('75th percentile: ',q3)"
   ]
  },
  {
   "cell_type": "code",
   "execution_count": 6,
   "metadata": {},
   "outputs": [
    {
     "data": {
      "text/html": [
       "<div>\n",
       "<style scoped>\n",
       "    .dataframe tbody tr th:only-of-type {\n",
       "        vertical-align: middle;\n",
       "    }\n",
       "\n",
       "    .dataframe tbody tr th {\n",
       "        vertical-align: top;\n",
       "    }\n",
       "\n",
       "    .dataframe thead th {\n",
       "        text-align: right;\n",
       "    }\n",
       "</style>\n",
       "<table border=\"1\" class=\"dataframe\">\n",
       "  <thead>\n",
       "    <tr style=\"text-align: right;\">\n",
       "      <th></th>\n",
       "      <th>Questions</th>\n",
       "    </tr>\n",
       "  </thead>\n",
       "  <tbody>\n",
       "    <tr>\n",
       "      <th>\"fatigue\",</th>\n",
       "      <td>3</td>\n",
       "    </tr>\n",
       "    <tr>\n",
       "      <th>\"nausea\",</th>\n",
       "      <td>3</td>\n",
       "    </tr>\n",
       "    <tr>\n",
       "      <th>\"Twenty five weeks pregnant\"</th>\n",
       "      <td>2</td>\n",
       "    </tr>\n",
       "    <tr>\n",
       "      <th>\"Twenty six weeks pregnant\"</th>\n",
       "      <td>2</td>\n",
       "    </tr>\n",
       "    <tr>\n",
       "      <th>\"Unable to sleep early\",</th>\n",
       "      <td>2</td>\n",
       "    </tr>\n",
       "    <tr>\n",
       "      <th>...</th>\n",
       "      <td>...</td>\n",
       "    </tr>\n",
       "    <tr>\n",
       "      <th>Are hot baths safe while pregnant?</th>\n",
       "      <td>1</td>\n",
       "    </tr>\n",
       "    <tr>\n",
       "      <th>Can I use a hot tub when pregnant?</th>\n",
       "      <td>1</td>\n",
       "    </tr>\n",
       "    <tr>\n",
       "      <th>Are hot tubs safe to use when pregnant?</th>\n",
       "      <td>1</td>\n",
       "    </tr>\n",
       "    <tr>\n",
       "      <th>Are hot tubs safe to use during pregnancy?</th>\n",
       "      <td>1</td>\n",
       "    </tr>\n",
       "    <tr>\n",
       "      <th>\"over the counter medecines for morning sickness or nausea\"</th>\n",
       "      <td>1</td>\n",
       "    </tr>\n",
       "  </tbody>\n",
       "</table>\n",
       "<p>1349 rows × 1 columns</p>\n",
       "</div>"
      ],
      "text/plain": [
       "                                                    Questions\n",
       "\"fatigue\",                                                  3\n",
       "\"nausea\",                                                   3\n",
       "\"Twenty five weeks pregnant\"                                2\n",
       "\"Twenty six weeks pregnant\"                                 2\n",
       "\"Unable to sleep early\",                                    2\n",
       "...                                                       ...\n",
       "Are hot baths safe while pregnant?                          1\n",
       "Can I use a hot tub when pregnant?                          1\n",
       "Are hot tubs safe to use when pregnant?                     1\n",
       "Are hot tubs safe to use during pregnancy?                  1\n",
       "\"over the counter medecines for morning sicknes...          1\n",
       "\n",
       "[1349 rows x 1 columns]"
      ]
     },
     "execution_count": 6,
     "metadata": {},
     "output_type": "execute_result"
    }
   ],
   "source": [
    "dataset['Questions'].value_counts().to_frame()"
   ]
  },
  {
   "cell_type": "code",
   "execution_count": 7,
   "metadata": {},
   "outputs": [],
   "source": [
    "#value_counts(), applies on pandas series, so use single braket.\n",
    "\n",
    "ans_stat = dataset['Answers'].value_counts()\n",
    "\n"
   ]
  },
  {
   "cell_type": "code",
   "execution_count": 8,
   "metadata": {},
   "outputs": [
    {
     "name": "stdout",
     "output_type": "stream",
     "text": [
      "mean 12.375\n",
      "std 6.539037315156491\n",
      "min 1\n",
      "max 46\n",
      "median 14.0\n"
     ]
    }
   ],
   "source": [
    "# to perform the descriptive stats\n",
    "\n",
    "print ('mean',ans_stat.mean())\n",
    "print ('std',ans_stat.std())\n",
    "print ('min',ans_stat.min())\n",
    "print ('max',ans_stat.max())\n",
    "print ('median',ans_stat.median())"
   ]
  },
  {
   "cell_type": "code",
   "execution_count": 9,
   "metadata": {},
   "outputs": [
    {
     "name": "stdout",
     "output_type": "stream",
     "text": [
      "25th percentile:  8.0\n",
      "50th percentile:  6.0\n",
      "75th percentile:  14.0\n"
     ]
    }
   ],
   "source": [
    "#calculate interquartile range (IQR)\n",
    "\n",
    "q3, q1 = np.percentile(ans_stat, [75 ,25])\n",
    "\n",
    "iqr = q3 - q1\n",
    "\n",
    "#display interquartile range \n",
    "\n",
    "print('25th percentile: ',q1)\n",
    "print('50th percentile: ',iqr)\n",
    "print('75th percentile: ',q3)\n",
    "\n"
   ]
  }
 ],
 "metadata": {
  "interpreter": {
   "hash": "54f240b62b6ba81e9aec67ff459cee530f42f4eb5d6d3fcb25adf273e0f32809"
  },
  "kernelspec": {
   "display_name": "Python 3.9.8 64-bit",
   "language": "python",
   "name": "python3"
  },
  "language_info": {
   "codemirror_mode": {
    "name": "ipython",
    "version": 3
   },
   "file_extension": ".py",
   "mimetype": "text/x-python",
   "name": "python",
   "nbconvert_exporter": "python",
   "pygments_lexer": "ipython3",
   "version": "3.9.8"
  },
  "orig_nbformat": 4
 },
 "nbformat": 4,
 "nbformat_minor": 2
}
