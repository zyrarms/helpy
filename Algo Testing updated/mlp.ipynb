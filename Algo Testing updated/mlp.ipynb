{
 "cells": [
  {
   "cell_type": "code",
   "execution_count": 805,
   "metadata": {},
   "outputs": [],
   "source": [
    "#Used in Tensorflow Model\n",
    "import numpy\n",
    "import tflearn\n",
    "import random\n",
    "import json\n",
    "import pickle\n",
    "from keras.models import Sequential\n",
    "from keras.layers import Dense,Dropout,Activation\n",
    "import random\n",
    "from tensorflow import keras\n",
    "import matplotlib.pyplot as plt \n",
    "import pandas as pd\n",
    "\n",
    "#Usde to for Contextualisation and Other NLP Tasks.\n",
    "import nltk\n",
    "from nltk.stem.lancaster import LancasterStemmer\n",
    "stemmer = LancasterStemmer()\n",
    "\n",
    "\n",
    "# import our chat-bot intents file\n",
    "with open('intents.json') as file:\n",
    "    data = json.load(file)\n",
    "\n",
    "try:\n",
    "    with open(\"data.pickle\", \"rb\") as f:\n",
    "        words, labels, training, output = pickle.load(f)\n",
    "except:\n",
    "\n",
    "# organize our documents, words and classification classes\n",
    "    words = []\n",
    "    labels = []\n",
    "    docs_x = []\n",
    "    docs_y = []\n",
    "\n",
    "    \n",
    "    # loop through each sentence in our intents patterns\n",
    "    for intent in data[\"intents\"]:\n",
    "        for pattern in intent[\"patterns\"]:\n",
    "            #tokenize words\n",
    "            #tokenize means chopping off the words into different chunks\n",
    "            wrds = nltk.word_tokenize(pattern)\n",
    "            words.extend(wrds)\n",
    "\n",
    "            #its just going to append all the patterns we have\n",
    "            # add to our words list\n",
    "            docs_x.append(wrds)\n",
    "            # add to documents in our corpus\n",
    "            docs_y.append(intent[\"tag\"])\n",
    "\n",
    "\n",
    "    #taking all the tags in a list  \n",
    "        if intent[\"tag\"] not in labels:\n",
    "            labels.append(intent[\"tag\"])\n",
    "\n",
    "# in linguistic morphology and information retrieval,\n",
    "# stemming is the process of reducing inflected\n",
    "# (or sometimes derived) words to their word stem, base or root form\n",
    "\n",
    "    #we are going to to covert every word and turn them into lower case\n",
    "    words = [stemmer.stem(w.lower()) for w in words if w != \"?\"]\n",
    "\n",
    "    #sorted them by creating a list, set remove duplicate\n",
    "    words = sorted(list(set(words)))\n",
    "\n",
    "    labels = sorted(labels)\n",
    "\n",
    "    # save to pickle\n",
    "    pickle.dump(words,open('words.pkl','wb'))\n",
    "    pickle.dump(labels,open('classes.pkl','wb'))\n",
    "\n",
    "   \n",
    "# unfortunately this data structure won’t work\n",
    "    # with Tensorflow, we need to transform it further:\n",
    "    # from documents of words into tensors of numbers.\n",
    "    # up until now we created a string but we need to convert into numbers to work on DNN\n",
    "        \n",
    "    #bagging onehotencoder\n",
    "    training = []\n",
    "    output = []\n",
    "\n",
    "    out_empty = [0 for _ in range(len(labels))]\n",
    "\n",
    "    for x, doc in enumerate(docs_x):\n",
    "        bag = []\n",
    "        # stem each word\n",
    "        wrds = [stemmer.stem(w.lower()) for w in doc]\n",
    "         # create our bag of words array\n",
    "        for w in words:\n",
    "            if w in wrds:\n",
    "                bag.append(1)\n",
    "            else:\n",
    "                bag.append(0)\n",
    "        # output is a '0' for each tag and '1' for current tag\n",
    "        output_row = out_empty[:]\n",
    "        output_row[labels.index(docs_y[x])] = 1\n",
    "\n",
    "        training.append([bag,output_row])\n",
    "\n",
    "\n",
    "    with open(\"data.pickle\", \"wb\") as f:\n",
    "        pickle.dump((words, labels, training, output), f)\n",
    "\n",
    "    # print (len(docs_x), \"documents\", docs_x)\n",
    "    # print (len(labels), \"classes\", labels)\n",
    "    # print (len(words), \"unique stemmed words\", words)"
   ]
  },
  {
   "cell_type": "code",
   "execution_count": 806,
   "metadata": {},
   "outputs": [
    {
     "name": "stderr",
     "output_type": "stream",
     "text": [
      "C:\\Users\\ELLAIN~1\\AppData\\Local\\Temp/ipykernel_13764/3682883600.py:3: VisibleDeprecationWarning: Creating an ndarray from ragged nested sequences (which is a list-or-tuple of lists-or-tuples-or ndarrays with different lengths or shapes) is deprecated. If you meant to do this, you must specify 'dtype=object' when creating the ndarray.\n",
      "  training=numpy.array(training)\n"
     ]
    },
    {
     "name": "stdout",
     "output_type": "stream",
     "text": [
      "Train on 1110 samples, validate on 278 samples\n",
      "Epoch 1/200\n",
      "1110/1110 [==============================] - 1s 847us/sample - loss: 4.6491 - acc: 0.0198 - val_loss: 4.6042 - val_acc: 0.0360\n",
      "Epoch 2/200\n",
      "1110/1110 [==============================] - 0s 283us/sample - loss: 4.4904 - acc: 0.0505 - val_loss: 4.3261 - val_acc: 0.0791\n",
      "Epoch 3/200\n",
      "1110/1110 [==============================] - 0s 317us/sample - loss: 4.1418 - acc: 0.0919 - val_loss: 3.8823 - val_acc: 0.1403\n",
      "Epoch 4/200\n",
      "1110/1110 [==============================] - 0s 323us/sample - loss: 3.7441 - acc: 0.1532 - val_loss: 3.4465 - val_acc: 0.2086\n",
      "Epoch 5/200\n",
      "1110/1110 [==============================] - 0s 282us/sample - loss: 3.4071 - acc: 0.1955 - val_loss: 3.0965 - val_acc: 0.2878\n",
      "Epoch 6/200\n",
      "1110/1110 [==============================] - 0s 300us/sample - loss: 3.1094 - acc: 0.2550 - val_loss: 2.8421 - val_acc: 0.3525\n",
      "Epoch 7/200\n",
      "1110/1110 [==============================] - 0s 350us/sample - loss: 2.8421 - acc: 0.3018 - val_loss: 2.5512 - val_acc: 0.4820\n",
      "Epoch 8/200\n",
      "1110/1110 [==============================] - 0s 338us/sample - loss: 2.5688 - acc: 0.3505 - val_loss: 2.3387 - val_acc: 0.5036\n",
      "Epoch 9/200\n",
      "1110/1110 [==============================] - 0s 340us/sample - loss: 2.3676 - acc: 0.3811 - val_loss: 2.1298 - val_acc: 0.5827\n",
      "Epoch 10/200\n",
      "1110/1110 [==============================] - 0s 285us/sample - loss: 2.1521 - acc: 0.4117 - val_loss: 1.9360 - val_acc: 0.6367\n",
      "Epoch 11/200\n",
      "1110/1110 [==============================] - 0s 290us/sample - loss: 2.0135 - acc: 0.4505 - val_loss: 1.7672 - val_acc: 0.6619\n",
      "Epoch 12/200\n",
      "1110/1110 [==============================] - 0s 311us/sample - loss: 1.8555 - acc: 0.4829 - val_loss: 1.6125 - val_acc: 0.6942\n",
      "Epoch 13/200\n",
      "1110/1110 [==============================] - 0s 287us/sample - loss: 1.6810 - acc: 0.5333 - val_loss: 1.4995 - val_acc: 0.7518\n",
      "Epoch 14/200\n",
      "1110/1110 [==============================] - 0s 285us/sample - loss: 1.5667 - acc: 0.5613 - val_loss: 1.3867 - val_acc: 0.7662\n",
      "Epoch 15/200\n",
      "1110/1110 [==============================] - 0s 282us/sample - loss: 1.4601 - acc: 0.5901 - val_loss: 1.3049 - val_acc: 0.7734\n",
      "Epoch 16/200\n",
      "1110/1110 [==============================] - 0s 305us/sample - loss: 1.3609 - acc: 0.6045 - val_loss: 1.2524 - val_acc: 0.7698\n",
      "Epoch 17/200\n",
      "1110/1110 [==============================] - 1s 496us/sample - loss: 1.3320 - acc: 0.6063 - val_loss: 1.1691 - val_acc: 0.7770\n",
      "Epoch 18/200\n",
      "1110/1110 [==============================] - 0s 416us/sample - loss: 1.2216 - acc: 0.6414 - val_loss: 1.1467 - val_acc: 0.7950\n",
      "Epoch 19/200\n",
      "1110/1110 [==============================] - 0s 342us/sample - loss: 1.1317 - acc: 0.6784 - val_loss: 1.0901 - val_acc: 0.7986\n",
      "Epoch 20/200\n",
      "1110/1110 [==============================] - 0s 447us/sample - loss: 1.1557 - acc: 0.6595 - val_loss: 1.0359 - val_acc: 0.7986\n",
      "Epoch 21/200\n",
      "1110/1110 [==============================] - 0s 348us/sample - loss: 1.0757 - acc: 0.6892 - val_loss: 1.0575 - val_acc: 0.8094\n",
      "Epoch 22/200\n",
      "1110/1110 [==============================] - 0s 354us/sample - loss: 0.9790 - acc: 0.7153 - val_loss: 1.0596 - val_acc: 0.8129\n",
      "Epoch 23/200\n",
      "1110/1110 [==============================] - 0s 432us/sample - loss: 0.9882 - acc: 0.7072 - val_loss: 1.0048 - val_acc: 0.8165\n",
      "Epoch 24/200\n",
      "1110/1110 [==============================] - 0s 316us/sample - loss: 0.9736 - acc: 0.7090 - val_loss: 0.9699 - val_acc: 0.8273\n",
      "Epoch 25/200\n",
      "1110/1110 [==============================] - 0s 279us/sample - loss: 0.8317 - acc: 0.7495 - val_loss: 0.9726 - val_acc: 0.8309\n",
      "Epoch 26/200\n",
      "1110/1110 [==============================] - 0s 281us/sample - loss: 0.8458 - acc: 0.7577 - val_loss: 0.9584 - val_acc: 0.8165\n",
      "Epoch 27/200\n",
      "1110/1110 [==============================] - 0s 301us/sample - loss: 0.8349 - acc: 0.7523 - val_loss: 0.9540 - val_acc: 0.8165\n",
      "Epoch 28/200\n",
      "1110/1110 [==============================] - 0s 400us/sample - loss: 0.7681 - acc: 0.7775 - val_loss: 0.9805 - val_acc: 0.8309\n",
      "Epoch 29/200\n",
      "1110/1110 [==============================] - 0s 405us/sample - loss: 0.7622 - acc: 0.7775 - val_loss: 0.9586 - val_acc: 0.8345\n",
      "Epoch 30/200\n",
      "1110/1110 [==============================] - 0s 391us/sample - loss: 0.7350 - acc: 0.7721 - val_loss: 0.9630 - val_acc: 0.8201\n",
      "Epoch 31/200\n",
      "1110/1110 [==============================] - 0s 428us/sample - loss: 0.7489 - acc: 0.7703 - val_loss: 1.0013 - val_acc: 0.8129\n",
      "Epoch 32/200\n",
      "1110/1110 [==============================] - 0s 389us/sample - loss: 0.7061 - acc: 0.7721 - val_loss: 0.9772 - val_acc: 0.8273\n",
      "Epoch 33/200\n",
      "1110/1110 [==============================] - 0s 397us/sample - loss: 0.6267 - acc: 0.8000 - val_loss: 1.0138 - val_acc: 0.8201\n",
      "Epoch 34/200\n",
      "1110/1110 [==============================] - 0s 365us/sample - loss: 0.6629 - acc: 0.8009 - val_loss: 0.9857 - val_acc: 0.8273\n",
      "Epoch 35/200\n",
      "1110/1110 [==============================] - 0s 348us/sample - loss: 0.6769 - acc: 0.7910 - val_loss: 0.9964 - val_acc: 0.8273\n",
      "Epoch 36/200\n",
      "1110/1110 [==============================] - 0s 330us/sample - loss: 0.6558 - acc: 0.7973 - val_loss: 1.0016 - val_acc: 0.8309\n",
      "Epoch 37/200\n",
      "1110/1110 [==============================] - 0s 332us/sample - loss: 0.6604 - acc: 0.7928 - val_loss: 0.9890 - val_acc: 0.8345\n",
      "Epoch 38/200\n",
      "1110/1110 [==============================] - 0s 302us/sample - loss: 0.5645 - acc: 0.8234 - val_loss: 0.9931 - val_acc: 0.8237\n",
      "Epoch 39/200\n",
      "1110/1110 [==============================] - 0s 285us/sample - loss: 0.5431 - acc: 0.8342 - val_loss: 1.0429 - val_acc: 0.8309\n",
      "Epoch 40/200\n",
      "1110/1110 [==============================] - 0s 289us/sample - loss: 0.6044 - acc: 0.8126 - val_loss: 1.0320 - val_acc: 0.8273\n",
      "Epoch 41/200\n",
      "1110/1110 [==============================] - 0s 294us/sample - loss: 0.5673 - acc: 0.8243 - val_loss: 1.0363 - val_acc: 0.8309\n",
      "Epoch 42/200\n",
      "1110/1110 [==============================] - 0s 296us/sample - loss: 0.5481 - acc: 0.8297 - val_loss: 0.9870 - val_acc: 0.8309\n",
      "Epoch 43/200\n",
      "1110/1110 [==============================] - 0s 291us/sample - loss: 0.5685 - acc: 0.8234 - val_loss: 0.9899 - val_acc: 0.8309\n",
      "Epoch 44/200\n",
      "1110/1110 [==============================] - 0s 271us/sample - loss: 0.5129 - acc: 0.8360 - val_loss: 1.0615 - val_acc: 0.8309\n",
      "Epoch 45/200\n",
      "1110/1110 [==============================] - 0s 273us/sample - loss: 0.5540 - acc: 0.8333 - val_loss: 1.0241 - val_acc: 0.8309\n",
      "Epoch 46/200\n",
      "1110/1110 [==============================] - 0s 310us/sample - loss: 0.5204 - acc: 0.8288 - val_loss: 1.0337 - val_acc: 0.8309\n",
      "Epoch 47/200\n",
      "1110/1110 [==============================] - 0s 348us/sample - loss: 0.5006 - acc: 0.8450 - val_loss: 1.0101 - val_acc: 0.8309\n",
      "Epoch 48/200\n",
      "1110/1110 [==============================] - 0s 341us/sample - loss: 0.4942 - acc: 0.8459 - val_loss: 1.0087 - val_acc: 0.8237\n",
      "Epoch 49/200\n",
      "1110/1110 [==============================] - 0s 304us/sample - loss: 0.4896 - acc: 0.8523 - val_loss: 1.0502 - val_acc: 0.8273\n",
      "Epoch 50/200\n",
      "1110/1110 [==============================] - 0s 338us/sample - loss: 0.5374 - acc: 0.8297 - val_loss: 1.0470 - val_acc: 0.8417\n",
      "Epoch 51/200\n",
      "1110/1110 [==============================] - 0s 273us/sample - loss: 0.4636 - acc: 0.8622 - val_loss: 1.0626 - val_acc: 0.8273\n",
      "Epoch 52/200\n",
      "1110/1110 [==============================] - 0s 287us/sample - loss: 0.5034 - acc: 0.8306 - val_loss: 1.0207 - val_acc: 0.8381\n",
      "Epoch 53/200\n",
      "1110/1110 [==============================] - 0s 287us/sample - loss: 0.4971 - acc: 0.8450 - val_loss: 1.0130 - val_acc: 0.8381\n",
      "Epoch 54/200\n",
      "1110/1110 [==============================] - 0s 306us/sample - loss: 0.4691 - acc: 0.8468 - val_loss: 1.0635 - val_acc: 0.8381\n",
      "Epoch 55/200\n",
      "1110/1110 [==============================] - 0s 287us/sample - loss: 0.4915 - acc: 0.8459 - val_loss: 1.0322 - val_acc: 0.8309\n",
      "Epoch 56/200\n",
      "1110/1110 [==============================] - 0s 272us/sample - loss: 0.4373 - acc: 0.8631 - val_loss: 1.0985 - val_acc: 0.8381\n",
      "Epoch 57/200\n",
      "1110/1110 [==============================] - 0s 343us/sample - loss: 0.4656 - acc: 0.8577 - val_loss: 1.0888 - val_acc: 0.8417\n",
      "Epoch 58/200\n",
      "1110/1110 [==============================] - 1s 452us/sample - loss: 0.4743 - acc: 0.8486 - val_loss: 1.0818 - val_acc: 0.8381\n",
      "Epoch 59/200\n",
      "1110/1110 [==============================] - 0s 427us/sample - loss: 0.3923 - acc: 0.8730 - val_loss: 1.1012 - val_acc: 0.8345\n",
      "Epoch 60/200\n",
      "1110/1110 [==============================] - 1s 463us/sample - loss: 0.4010 - acc: 0.8730 - val_loss: 1.0895 - val_acc: 0.8381\n",
      "Epoch 61/200\n",
      "1110/1110 [==============================] - 0s 424us/sample - loss: 0.4191 - acc: 0.8694 - val_loss: 1.1078 - val_acc: 0.8381\n",
      "Epoch 62/200\n",
      "1110/1110 [==============================] - 1s 469us/sample - loss: 0.4262 - acc: 0.8631 - val_loss: 1.0789 - val_acc: 0.8345\n",
      "Epoch 63/200\n",
      "1110/1110 [==============================] - 0s 371us/sample - loss: 0.4159 - acc: 0.8694 - val_loss: 1.0954 - val_acc: 0.8345\n",
      "Epoch 64/200\n",
      "1110/1110 [==============================] - 0s 414us/sample - loss: 0.4067 - acc: 0.8712 - val_loss: 1.0877 - val_acc: 0.8237\n",
      "Epoch 65/200\n",
      "1110/1110 [==============================] - 1s 472us/sample - loss: 0.4147 - acc: 0.8802 - val_loss: 1.0818 - val_acc: 0.8381\n",
      "Epoch 66/200\n",
      "1110/1110 [==============================] - 1s 459us/sample - loss: 0.4197 - acc: 0.8676 - val_loss: 1.0887 - val_acc: 0.8417\n",
      "Epoch 67/200\n",
      "1110/1110 [==============================] - 0s 287us/sample - loss: 0.4139 - acc: 0.8613 - val_loss: 1.0628 - val_acc: 0.8453\n",
      "Epoch 68/200\n",
      "1110/1110 [==============================] - 0s 318us/sample - loss: 0.3660 - acc: 0.8658 - val_loss: 1.0747 - val_acc: 0.8417\n",
      "Epoch 69/200\n",
      "1110/1110 [==============================] - 0s 289us/sample - loss: 0.4108 - acc: 0.8694 - val_loss: 1.0636 - val_acc: 0.8345\n",
      "Epoch 70/200\n",
      "1110/1110 [==============================] - 0s 282us/sample - loss: 0.3763 - acc: 0.8784 - val_loss: 1.1125 - val_acc: 0.8381\n",
      "Epoch 71/200\n",
      "1110/1110 [==============================] - 0s 267us/sample - loss: 0.4064 - acc: 0.8622 - val_loss: 1.1794 - val_acc: 0.8381\n",
      "Epoch 72/200\n",
      "1110/1110 [==============================] - 0s 300us/sample - loss: 0.3625 - acc: 0.8730 - val_loss: 1.1411 - val_acc: 0.8525\n",
      "Epoch 73/200\n",
      "1110/1110 [==============================] - 0s 292us/sample - loss: 0.3417 - acc: 0.8793 - val_loss: 1.1128 - val_acc: 0.8525\n",
      "Epoch 74/200\n",
      "1110/1110 [==============================] - 0s 280us/sample - loss: 0.3261 - acc: 0.9000 - val_loss: 1.1507 - val_acc: 0.8453\n",
      "Epoch 75/200\n",
      "1110/1110 [==============================] - 0s 288us/sample - loss: 0.3536 - acc: 0.8838 - val_loss: 1.2027 - val_acc: 0.8309\n",
      "Epoch 76/200\n",
      "1110/1110 [==============================] - ETA: 0s - loss: 0.3514 - acc: 0.889 - 0s 331us/sample - loss: 0.3373 - acc: 0.8919 - val_loss: 1.1941 - val_acc: 0.8453\n",
      "Epoch 77/200\n",
      "1110/1110 [==============================] - 0s 419us/sample - loss: 0.3801 - acc: 0.8829 - val_loss: 1.1790 - val_acc: 0.8453\n",
      "Epoch 78/200\n",
      "1110/1110 [==============================] - 0s 347us/sample - loss: 0.3399 - acc: 0.8820 - val_loss: 1.1814 - val_acc: 0.8381\n",
      "Epoch 79/200\n",
      "1110/1110 [==============================] - 0s 326us/sample - loss: 0.3263 - acc: 0.8937 - val_loss: 1.1964 - val_acc: 0.8381\n",
      "Epoch 80/200\n",
      "1110/1110 [==============================] - 1s 451us/sample - loss: 0.3793 - acc: 0.8748 - val_loss: 1.1417 - val_acc: 0.8525\n",
      "Epoch 81/200\n",
      "1110/1110 [==============================] - 1s 514us/sample - loss: 0.3561 - acc: 0.8874 - val_loss: 1.2069 - val_acc: 0.8453\n",
      "Epoch 82/200\n",
      "1110/1110 [==============================] - 1s 504us/sample - loss: 0.3803 - acc: 0.8739 - val_loss: 1.1634 - val_acc: 0.8489\n",
      "Epoch 83/200\n",
      "1110/1110 [==============================] - 0s 364us/sample - loss: 0.3335 - acc: 0.8901 - val_loss: 1.1855 - val_acc: 0.8417\n",
      "Epoch 84/200\n",
      "1110/1110 [==============================] - 0s 350us/sample - loss: 0.3651 - acc: 0.8802 - val_loss: 1.2005 - val_acc: 0.8453\n",
      "Epoch 85/200\n",
      "1110/1110 [==============================] - 0s 283us/sample - loss: 0.3552 - acc: 0.8811 - val_loss: 1.1973 - val_acc: 0.8453\n",
      "Epoch 86/200\n",
      "1110/1110 [==============================] - 0s 294us/sample - loss: 0.3259 - acc: 0.8901 - val_loss: 1.1797 - val_acc: 0.8489\n",
      "Epoch 87/200\n",
      "1110/1110 [==============================] - 0s 309us/sample - loss: 0.3087 - acc: 0.9027 - val_loss: 1.2310 - val_acc: 0.8453\n",
      "Epoch 88/200\n",
      "1110/1110 [==============================] - ETA: 0s - loss: 0.3451 - acc: 0.898 - 0s 401us/sample - loss: 0.3528 - acc: 0.8955 - val_loss: 1.2059 - val_acc: 0.8489\n",
      "Epoch 89/200\n",
      "1110/1110 [==============================] - 0s 419us/sample - loss: 0.3235 - acc: 0.8901 - val_loss: 1.2306 - val_acc: 0.8453\n",
      "Epoch 90/200\n",
      "1110/1110 [==============================] - 0s 344us/sample - loss: 0.3446 - acc: 0.8856 - val_loss: 1.2139 - val_acc: 0.8453\n",
      "Epoch 91/200\n",
      "1110/1110 [==============================] - 0s 415us/sample - loss: 0.3399 - acc: 0.8865 - val_loss: 1.1745 - val_acc: 0.8273\n",
      "Epoch 92/200\n",
      "1110/1110 [==============================] - 0s 327us/sample - loss: 0.3388 - acc: 0.8982 - val_loss: 1.1616 - val_acc: 0.8345\n",
      "Epoch 93/200\n",
      "1110/1110 [==============================] - 0s 294us/sample - loss: 0.3341 - acc: 0.8811 - val_loss: 1.1853 - val_acc: 0.8309\n",
      "Epoch 94/200\n",
      "1110/1110 [==============================] - 0s 410us/sample - loss: 0.3013 - acc: 0.8937 - val_loss: 1.1993 - val_acc: 0.8453\n",
      "Epoch 95/200\n",
      "1110/1110 [==============================] - 0s 358us/sample - loss: 0.2832 - acc: 0.9063 - val_loss: 1.2546 - val_acc: 0.8489\n",
      "Epoch 96/200\n",
      "1110/1110 [==============================] - 0s 421us/sample - loss: 0.3239 - acc: 0.8919 - val_loss: 1.2328 - val_acc: 0.8417\n",
      "Epoch 97/200\n",
      "1110/1110 [==============================] - 0s 418us/sample - loss: 0.3201 - acc: 0.8919 - val_loss: 1.2175 - val_acc: 0.8489\n",
      "Epoch 98/200\n",
      "1110/1110 [==============================] - 0s 348us/sample - loss: 0.2951 - acc: 0.9072 - val_loss: 1.2683 - val_acc: 0.8237\n",
      "Epoch 99/200\n",
      "1110/1110 [==============================] - 0s 322us/sample - loss: 0.2869 - acc: 0.8991 - val_loss: 1.2752 - val_acc: 0.8417\n",
      "Epoch 100/200\n",
      "1110/1110 [==============================] - ETA: 0s - loss: 0.3060 - acc: 0.897 - 0s 278us/sample - loss: 0.3042 - acc: 0.8973 - val_loss: 1.2921 - val_acc: 0.8309\n",
      "Epoch 101/200\n",
      "1110/1110 [==============================] - 0s 429us/sample - loss: 0.3095 - acc: 0.9009 - val_loss: 1.2974 - val_acc: 0.8381\n",
      "Epoch 102/200\n",
      "1110/1110 [==============================] - 0s 305us/sample - loss: 0.3138 - acc: 0.8946 - val_loss: 1.2740 - val_acc: 0.8453\n",
      "Epoch 103/200\n",
      "1110/1110 [==============================] - 0s 344us/sample - loss: 0.3270 - acc: 0.8928 - val_loss: 1.1906 - val_acc: 0.8381\n",
      "Epoch 104/200\n",
      "1110/1110 [==============================] - 0s 335us/sample - loss: 0.3205 - acc: 0.9072 - val_loss: 1.2682 - val_acc: 0.8417\n",
      "Epoch 105/200\n",
      "1110/1110 [==============================] - 0s 357us/sample - loss: 0.3049 - acc: 0.8973 - val_loss: 1.2844 - val_acc: 0.8309\n",
      "Epoch 106/200\n",
      "1110/1110 [==============================] - 0s 290us/sample - loss: 0.2805 - acc: 0.9063 - val_loss: 1.3069 - val_acc: 0.8381\n",
      "Epoch 107/200\n",
      "1110/1110 [==============================] - 0s 317us/sample - loss: 0.2740 - acc: 0.9099 - val_loss: 1.3565 - val_acc: 0.8417\n",
      "Epoch 108/200\n",
      "1110/1110 [==============================] - 0s 286us/sample - loss: 0.2974 - acc: 0.8991 - val_loss: 1.3091 - val_acc: 0.8309\n",
      "Epoch 109/200\n",
      "1110/1110 [==============================] - 0s 306us/sample - loss: 0.2774 - acc: 0.9027 - val_loss: 1.3317 - val_acc: 0.8345\n",
      "Epoch 110/200\n",
      "1110/1110 [==============================] - 0s 330us/sample - loss: 0.2711 - acc: 0.9126 - val_loss: 1.3304 - val_acc: 0.8417\n",
      "Epoch 111/200\n",
      "1110/1110 [==============================] - 0s 288us/sample - loss: 0.2968 - acc: 0.8982 - val_loss: 1.3742 - val_acc: 0.8417\n",
      "Epoch 112/200\n",
      "1110/1110 [==============================] - 0s 287us/sample - loss: 0.3104 - acc: 0.8991 - val_loss: 1.3491 - val_acc: 0.8417\n",
      "Epoch 113/200\n",
      "1110/1110 [==============================] - 0s 298us/sample - loss: 0.2741 - acc: 0.9063 - val_loss: 1.3793 - val_acc: 0.8417\n",
      "Epoch 114/200\n",
      "1110/1110 [==============================] - 0s 288us/sample - loss: 0.2690 - acc: 0.9153 - val_loss: 1.3175 - val_acc: 0.8489\n",
      "Epoch 115/200\n",
      "1110/1110 [==============================] - 0s 318us/sample - loss: 0.2891 - acc: 0.9072 - val_loss: 1.2857 - val_acc: 0.8453\n",
      "Epoch 116/200\n",
      "1110/1110 [==============================] - 0s 394us/sample - loss: 0.2875 - acc: 0.9063 - val_loss: 1.3480 - val_acc: 0.8309\n",
      "Epoch 117/200\n",
      "1110/1110 [==============================] - 0s 386us/sample - loss: 0.2731 - acc: 0.9135 - val_loss: 1.3374 - val_acc: 0.8309\n",
      "Epoch 118/200\n",
      "1110/1110 [==============================] - 0s 329us/sample - loss: 0.3137 - acc: 0.8955 - val_loss: 1.3772 - val_acc: 0.8345\n",
      "Epoch 119/200\n",
      "1110/1110 [==============================] - 0s 275us/sample - loss: 0.2848 - acc: 0.9018 - val_loss: 1.3408 - val_acc: 0.8417\n",
      "Epoch 120/200\n",
      "1110/1110 [==============================] - 0s 290us/sample - loss: 0.2628 - acc: 0.9036 - val_loss: 1.3021 - val_acc: 0.8417\n",
      "Epoch 121/200\n",
      "1110/1110 [==============================] - 0s 405us/sample - loss: 0.2840 - acc: 0.9135 - val_loss: 1.3196 - val_acc: 0.8417\n",
      "Epoch 122/200\n",
      "1110/1110 [==============================] - 0s 283us/sample - loss: 0.2692 - acc: 0.9135 - val_loss: 1.3249 - val_acc: 0.8417\n",
      "Epoch 123/200\n",
      "1110/1110 [==============================] - 0s 282us/sample - loss: 0.2421 - acc: 0.9171 - val_loss: 1.3118 - val_acc: 0.8417\n",
      "Epoch 124/200\n",
      "1110/1110 [==============================] - 0s 316us/sample - loss: 0.2686 - acc: 0.9198 - val_loss: 1.3362 - val_acc: 0.8489\n",
      "Epoch 125/200\n",
      "1110/1110 [==============================] - 0s 362us/sample - loss: 0.2497 - acc: 0.9117 - val_loss: 1.3276 - val_acc: 0.8489\n",
      "Epoch 126/200\n",
      "1110/1110 [==============================] - 0s 338us/sample - loss: 0.2642 - acc: 0.9081 - val_loss: 1.3479 - val_acc: 0.8417\n",
      "Epoch 127/200\n",
      "1110/1110 [==============================] - 0s 312us/sample - loss: 0.2897 - acc: 0.9009 - val_loss: 1.3413 - val_acc: 0.8417\n",
      "Epoch 128/200\n",
      "1110/1110 [==============================] - 0s 341us/sample - loss: 0.2667 - acc: 0.9135 - val_loss: 1.3019 - val_acc: 0.8489\n",
      "Epoch 129/200\n",
      "1110/1110 [==============================] - 0s 342us/sample - loss: 0.2641 - acc: 0.9153 - val_loss: 1.3444 - val_acc: 0.8417\n",
      "Epoch 130/200\n",
      "1110/1110 [==============================] - 0s 324us/sample - loss: 0.2426 - acc: 0.9171 - val_loss: 1.3847 - val_acc: 0.8417\n",
      "Epoch 131/200\n",
      "1110/1110 [==============================] - 0s 277us/sample - loss: 0.2569 - acc: 0.9081 - val_loss: 1.3875 - val_acc: 0.8417\n",
      "Epoch 132/200\n",
      "1110/1110 [==============================] - 0s 312us/sample - loss: 0.2902 - acc: 0.9018 - val_loss: 1.3954 - val_acc: 0.8345\n",
      "Epoch 133/200\n",
      "1110/1110 [==============================] - 0s 375us/sample - loss: 0.2883 - acc: 0.9000 - val_loss: 1.3561 - val_acc: 0.8417\n",
      "Epoch 134/200\n",
      "1110/1110 [==============================] - 0s 347us/sample - loss: 0.2959 - acc: 0.9018 - val_loss: 1.3260 - val_acc: 0.8381\n",
      "Epoch 135/200\n",
      "1110/1110 [==============================] - 0s 281us/sample - loss: 0.2920 - acc: 0.9099 - val_loss: 1.3248 - val_acc: 0.8345\n",
      "Epoch 136/200\n",
      "1110/1110 [==============================] - 0s 276us/sample - loss: 0.2482 - acc: 0.9261 - val_loss: 1.3254 - val_acc: 0.8345\n",
      "Epoch 137/200\n",
      "1110/1110 [==============================] - 0s 300us/sample - loss: 0.2235 - acc: 0.9225 - val_loss: 1.3308 - val_acc: 0.8561\n",
      "Epoch 138/200\n",
      "1110/1110 [==============================] - 0s 313us/sample - loss: 0.2490 - acc: 0.9081 - val_loss: 1.3238 - val_acc: 0.8453\n",
      "Epoch 139/200\n",
      "1110/1110 [==============================] - 0s 279us/sample - loss: 0.2384 - acc: 0.9162 - val_loss: 1.3853 - val_acc: 0.8417\n",
      "Epoch 140/200\n",
      "1110/1110 [==============================] - 0s 317us/sample - loss: 0.2314 - acc: 0.9234 - val_loss: 1.3876 - val_acc: 0.8489\n",
      "Epoch 141/200\n",
      "1110/1110 [==============================] - 0s 338us/sample - loss: 0.2509 - acc: 0.9072 - val_loss: 1.3435 - val_acc: 0.8381\n",
      "Epoch 142/200\n",
      "1110/1110 [==============================] - 0s 347us/sample - loss: 0.2372 - acc: 0.9198 - val_loss: 1.3502 - val_acc: 0.8525\n",
      "Epoch 143/200\n",
      "1110/1110 [==============================] - 0s 315us/sample - loss: 0.2446 - acc: 0.9063 - val_loss: 1.3842 - val_acc: 0.8489\n",
      "Epoch 144/200\n",
      "1110/1110 [==============================] - 0s 298us/sample - loss: 0.2466 - acc: 0.9189 - val_loss: 1.3955 - val_acc: 0.8525\n",
      "Epoch 145/200\n",
      "1110/1110 [==============================] - 0s 340us/sample - loss: 0.2387 - acc: 0.9153 - val_loss: 1.3587 - val_acc: 0.8381\n",
      "Epoch 146/200\n",
      "1110/1110 [==============================] - 0s 438us/sample - loss: 0.2532 - acc: 0.9072 - val_loss: 1.3268 - val_acc: 0.8345\n",
      "Epoch 147/200\n",
      "1110/1110 [==============================] - 0s 277us/sample - loss: 0.2386 - acc: 0.9189 - val_loss: 1.3479 - val_acc: 0.8453\n",
      "Epoch 148/200\n",
      "1110/1110 [==============================] - 0s 419us/sample - loss: 0.2131 - acc: 0.9243 - val_loss: 1.3655 - val_acc: 0.8489\n",
      "Epoch 149/200\n",
      "1110/1110 [==============================] - 0s 387us/sample - loss: 0.2236 - acc: 0.9216 - val_loss: 1.3888 - val_acc: 0.8417\n",
      "Epoch 150/200\n",
      "1110/1110 [==============================] - 0s 290us/sample - loss: 0.2901 - acc: 0.9036 - val_loss: 1.4196 - val_acc: 0.8417\n",
      "Epoch 151/200\n",
      "1110/1110 [==============================] - ETA: 0s - loss: 0.2450 - acc: 0.911 - 0s 279us/sample - loss: 0.2416 - acc: 0.9126 - val_loss: 1.3775 - val_acc: 0.8489\n",
      "Epoch 152/200\n",
      "1110/1110 [==============================] - 0s 281us/sample - loss: 0.2339 - acc: 0.9171 - val_loss: 1.3279 - val_acc: 0.8489\n",
      "Epoch 153/200\n",
      "1110/1110 [==============================] - 0s 340us/sample - loss: 0.2555 - acc: 0.9099 - val_loss: 1.3397 - val_acc: 0.8381\n",
      "Epoch 154/200\n",
      "1110/1110 [==============================] - 0s 415us/sample - loss: 0.2282 - acc: 0.9162 - val_loss: 1.3726 - val_acc: 0.8381\n",
      "Epoch 155/200\n",
      "1110/1110 [==============================] - 0s 328us/sample - loss: 0.2044 - acc: 0.9243 - val_loss: 1.3972 - val_acc: 0.8453\n",
      "Epoch 156/200\n",
      "1110/1110 [==============================] - 0s 351us/sample - loss: 0.2170 - acc: 0.9306 - val_loss: 1.4457 - val_acc: 0.8453\n",
      "Epoch 157/200\n",
      "1110/1110 [==============================] - 0s 297us/sample - loss: 0.2604 - acc: 0.9153 - val_loss: 1.4502 - val_acc: 0.8417\n",
      "Epoch 158/200\n",
      "1110/1110 [==============================] - 0s 381us/sample - loss: 0.2500 - acc: 0.9153 - val_loss: 1.4343 - val_acc: 0.8381\n",
      "Epoch 159/200\n",
      "1110/1110 [==============================] - 0s 319us/sample - loss: 0.2219 - acc: 0.9243 - val_loss: 1.3969 - val_acc: 0.8417\n",
      "Epoch 160/200\n",
      "1110/1110 [==============================] - 0s 312us/sample - loss: 0.2389 - acc: 0.9189 - val_loss: 1.4413 - val_acc: 0.8417\n",
      "Epoch 161/200\n",
      "1110/1110 [==============================] - 0s 299us/sample - loss: 0.2335 - acc: 0.9180 - val_loss: 1.4784 - val_acc: 0.8453\n",
      "Epoch 162/200\n",
      "1110/1110 [==============================] - 0s 284us/sample - loss: 0.2150 - acc: 0.9207 - val_loss: 1.5224 - val_acc: 0.8453\n",
      "Epoch 163/200\n",
      "1110/1110 [==============================] - 0s 284us/sample - loss: 0.2282 - acc: 0.9180 - val_loss: 1.4743 - val_acc: 0.8453\n",
      "Epoch 164/200\n",
      "1110/1110 [==============================] - 0s 295us/sample - loss: 0.2006 - acc: 0.9333 - val_loss: 1.4796 - val_acc: 0.8453\n",
      "Epoch 165/200\n",
      "1110/1110 [==============================] - 0s 297us/sample - loss: 0.2031 - acc: 0.9288 - val_loss: 1.4933 - val_acc: 0.8381\n",
      "Epoch 166/200\n",
      "1110/1110 [==============================] - 0s 323us/sample - loss: 0.2780 - acc: 0.9099 - val_loss: 1.4452 - val_acc: 0.8489\n",
      "Epoch 167/200\n",
      "1110/1110 [==============================] - 0s 349us/sample - loss: 0.2306 - acc: 0.9189 - val_loss: 1.5468 - val_acc: 0.8381\n",
      "Epoch 168/200\n",
      "1110/1110 [==============================] - 0s 346us/sample - loss: 0.2545 - acc: 0.9135 - val_loss: 1.5092 - val_acc: 0.8417\n",
      "Epoch 169/200\n",
      "1110/1110 [==============================] - 0s 308us/sample - loss: 0.2550 - acc: 0.9009 - val_loss: 1.4602 - val_acc: 0.8453\n",
      "Epoch 170/200\n",
      "1110/1110 [==============================] - 0s 276us/sample - loss: 0.2230 - acc: 0.9225 - val_loss: 1.4456 - val_acc: 0.8453\n",
      "Epoch 171/200\n",
      "1110/1110 [==============================] - 0s 288us/sample - loss: 0.2398 - acc: 0.9162 - val_loss: 1.4553 - val_acc: 0.8453\n",
      "Epoch 172/200\n",
      "1110/1110 [==============================] - 0s 288us/sample - loss: 0.2137 - acc: 0.9261 - val_loss: 1.5762 - val_acc: 0.8453\n",
      "Epoch 173/200\n",
      "1110/1110 [==============================] - 0s 306us/sample - loss: 0.2468 - acc: 0.9171 - val_loss: 1.5453 - val_acc: 0.8417\n",
      "Epoch 174/200\n",
      "1110/1110 [==============================] - 0s 279us/sample - loss: 0.2262 - acc: 0.9225 - val_loss: 1.5665 - val_acc: 0.8345\n",
      "Epoch 175/200\n",
      "1110/1110 [==============================] - 0s 297us/sample - loss: 0.2177 - acc: 0.9189 - val_loss: 1.5754 - val_acc: 0.8489\n",
      "Epoch 176/200\n",
      "1110/1110 [==============================] - 0s 344us/sample - loss: 0.2165 - acc: 0.9198 - val_loss: 1.5900 - val_acc: 0.8309\n",
      "Epoch 177/200\n",
      "1110/1110 [==============================] - 0s 345us/sample - loss: 0.2661 - acc: 0.9072 - val_loss: 1.5762 - val_acc: 0.8381\n",
      "Epoch 178/200\n",
      "1110/1110 [==============================] - 0s 337us/sample - loss: 0.2158 - acc: 0.9234 - val_loss: 1.5693 - val_acc: 0.8417\n",
      "Epoch 179/200\n",
      "1110/1110 [==============================] - 0s 284us/sample - loss: 0.2217 - acc: 0.9180 - val_loss: 1.5946 - val_acc: 0.8381\n",
      "Epoch 180/200\n",
      "1110/1110 [==============================] - 0s 289us/sample - loss: 0.2022 - acc: 0.9225 - val_loss: 1.5949 - val_acc: 0.8417\n",
      "Epoch 181/200\n",
      "1110/1110 [==============================] - 0s 307us/sample - loss: 0.2282 - acc: 0.9180 - val_loss: 1.5890 - val_acc: 0.8417\n",
      "Epoch 182/200\n",
      "1110/1110 [==============================] - 0s 284us/sample - loss: 0.2263 - acc: 0.9180 - val_loss: 1.5694 - val_acc: 0.8453\n",
      "Epoch 183/200\n",
      "1110/1110 [==============================] - 0s 282us/sample - loss: 0.2091 - acc: 0.9315 - val_loss: 1.5645 - val_acc: 0.8453\n",
      "Epoch 184/200\n",
      "1110/1110 [==============================] - 0s 265us/sample - loss: 0.2337 - acc: 0.9252 - val_loss: 1.5817 - val_acc: 0.8417\n",
      "Epoch 185/200\n",
      "1110/1110 [==============================] - 0s 329us/sample - loss: 0.1624 - acc: 0.9369 - val_loss: 1.5411 - val_acc: 0.8525\n",
      "Epoch 186/200\n",
      "1110/1110 [==============================] - 0s 292us/sample - loss: 0.2182 - acc: 0.9333 - val_loss: 1.5707 - val_acc: 0.8489\n",
      "Epoch 187/200\n",
      "1110/1110 [==============================] - 0s 283us/sample - loss: 0.2325 - acc: 0.9270 - val_loss: 1.4923 - val_acc: 0.8453\n",
      "Epoch 188/200\n",
      "1110/1110 [==============================] - 0s 284us/sample - loss: 0.2295 - acc: 0.9225 - val_loss: 1.5251 - val_acc: 0.8561\n",
      "Epoch 189/200\n",
      "1110/1110 [==============================] - 0s 326us/sample - loss: 0.2339 - acc: 0.9144 - val_loss: 1.5535 - val_acc: 0.8489\n",
      "Epoch 190/200\n",
      "1110/1110 [==============================] - 0s 336us/sample - loss: 0.1947 - acc: 0.9324 - val_loss: 1.5814 - val_acc: 0.8453\n",
      "Epoch 191/200\n",
      "1110/1110 [==============================] - 0s 334us/sample - loss: 0.2068 - acc: 0.9306 - val_loss: 1.5637 - val_acc: 0.8453\n",
      "Epoch 192/200\n",
      "1110/1110 [==============================] - 0s 316us/sample - loss: 0.2253 - acc: 0.9153 - val_loss: 1.5338 - val_acc: 0.8453\n",
      "Epoch 193/200\n",
      "1110/1110 [==============================] - 0s 307us/sample - loss: 0.2359 - acc: 0.9117 - val_loss: 1.5803 - val_acc: 0.8417\n",
      "Epoch 194/200\n",
      "1110/1110 [==============================] - 0s 292us/sample - loss: 0.2304 - acc: 0.9279 - val_loss: 1.5443 - val_acc: 0.8417\n",
      "Epoch 195/200\n",
      "1110/1110 [==============================] - 0s 279us/sample - loss: 0.1919 - acc: 0.9396 - val_loss: 1.6124 - val_acc: 0.8381\n",
      "Epoch 196/200\n",
      "1110/1110 [==============================] - 0s 303us/sample - loss: 0.2129 - acc: 0.9234 - val_loss: 1.5488 - val_acc: 0.8417\n",
      "Epoch 197/200\n",
      "1110/1110 [==============================] - 0s 293us/sample - loss: 0.2133 - acc: 0.9270 - val_loss: 1.6254 - val_acc: 0.8381\n",
      "Epoch 198/200\n",
      "1110/1110 [==============================] - 0s 290us/sample - loss: 0.1888 - acc: 0.9396 - val_loss: 1.5615 - val_acc: 0.8489\n",
      "Epoch 199/200\n",
      "1110/1110 [==============================] - 1s 598us/sample - loss: 0.1961 - acc: 0.9351 - val_loss: 1.6371 - val_acc: 0.8453\n",
      "Epoch 200/200\n",
      "1110/1110 [==============================] - 1s 575us/sample - loss: 0.2426 - acc: 0.9225 - val_loss: 1.5979 - val_acc: 0.8489\n"
     ]
    }
   ],
   "source": [
    "#training\n",
    "random.shuffle(training)\n",
    "training=numpy.array(training)  \n",
    "X_train=list(training[:,0])\n",
    "y_train=list(training[:,1])  \n",
    "\n",
    "#Model\n",
    "model=Sequential()\n",
    "model.add(Dense(128,activation='relu',input_shape=(len(X_train[0]),)))\n",
    "model.add(Dropout(0.5))\n",
    "model.add(Dense(64,activation='relu'))\n",
    "model.add(Dense(64,activation='relu'))\n",
    "model.add(Dropout(0.5))\n",
    "model.add(Dense(len(y_train[0]),activation='softmax'))\n",
    "\n",
    "adam=keras.optimizers.Adam(0.001)\n",
    "model.compile(optimizer=adam,loss='categorical_crossentropy',metrics=['accuracy'])\n",
    "#model.fit(np.array(X_train),np.array(y_train),epochs=200,batch_size=10,verbose=1)\n",
    "\n",
    "try:\n",
    "    model.load(\"mymodel.h5\")\n",
    "except:\n",
    "    history=model.fit(numpy.array(X_train),numpy.array(y_train),validation_split=0.20,epochs=200,batch_size=10,verbose=1)    \n",
    "    model.save(\"mymodel.h5\",history)"
   ]
  },
  {
   "cell_type": "code",
   "execution_count": 807,
   "metadata": {},
   "outputs": [
    {
     "name": "stdout",
     "output_type": "stream",
     "text": [
      "dict_keys(['loss', 'acc', 'val_loss', 'val_acc'])\n"
     ]
    },
    {
     "data": {
      "image/png": "[encoded data removed]",
      "text/plain": [
       "<Figure size 432x288 with 1 Axes>"
      ]
     },
     "metadata": {
      "needs_background": "light"
     },
     "output_type": "display_data"
    },
    {
     "data": {
      "image/png": "[encoded data removed]",
      "text/plain": [
       "<Figure size 432x288 with 1 Axes>"
      ]
     },
     "metadata": {
      "needs_background": "light"
     },
     "output_type": "display_data"
    }
   ],
   "source": [
    "print(history.history.keys())\n",
    "# summarize history for accuracy\n",
    "plt.plot(history.history['acc'])\n",
    "plt.plot(history.history['val_acc'])\n",
    "plt.title('Training and Validation Accuracy')\n",
    "plt.ylabel('accuracy')\n",
    "plt.xlabel('epoch')\n",
    "plt.legend(['training', 'validation'], loc='upper left')\n",
    "plt.show()\n",
    "# summarize history for loss\n",
    "plt.plot(history.history['loss'])\n",
    "plt.plot(history.history['val_loss'])\n",
    "plt.title('Training and Validation Loss')\n",
    "plt.ylabel('loss')\n",
    "plt.xlabel('epoch')\n",
    "plt.legend(['training', 'validation'], loc='upper left')\n",
    "plt.show()"
   ]
  },
  {
   "cell_type": "code",
   "execution_count": 808,
   "metadata": {},
   "outputs": [],
   "source": [
    "\n",
    "def bag_of_words(s, words, show_details=True):\n",
    "    bag = [0 for _ in range(len(words))]\n",
    "\n",
    "    s_words = nltk.word_tokenize(s)\n",
    "    s_words = [stemmer.stem(word.lower()) for word in s_words]\n",
    "\n",
    "    for se in s_words:\n",
    "        for i, w in enumerate(words):\n",
    "            if w == se:\n",
    "                bag[i] = 1\n",
    "                if show_details:\n",
    "                    print (\"found in bag: %s\" % w)\n",
    "            \n",
    "    return numpy.array(bag)\n",
    "\n",
    "\n",
    "# #chat method to take input and show output \n",
    "# def chat(inp):\n",
    "#         results = model.predict([[bag_of_words(inp, words)]])[0]\n",
    "#         results_index = numpy.argmax(results)\n",
    "#         tag = labels[results_index]\n",
    "\n",
    "\n",
    "#         if results[results_index] > 0.75:\n",
    "#             for tg in data[\"intents\"]:\n",
    "#                 if tg['tag'] == tag:\n",
    "#                     responses = tg['responses']\n",
    "#                     return (random.choice(responses))\n",
    "       \n",
    "#         return 'Sorry, I didnt get that. what is your question again?'\n",
    "\n",
    "\n",
    "\n",
    "\n",
    "# if __name__ == \"__main__\":\n",
    "#     print(\"Start talking with the bot (type quit to stop)!\")\n",
    "#     while True:\n",
    "#         inp = input(\"You: \")\n",
    "#         if inp.lower() == \"quit\":\n",
    "#             break\n",
    "\n",
    "#         resp = chat(inp)\n",
    "#         print(resp)\n"
   ]
  },
  {
   "cell_type": "code",
   "execution_count": 809,
   "metadata": {},
   "outputs": [
    {
     "name": "stdout",
     "output_type": "stream",
     "text": [
      "found in bag: sign\n",
      "found in bag: of\n",
      "found in bag: pregn\n",
      "[0 0 0 0 0 0 0 0 0 0 0 0 0 0 0 0 0 0 0 0 0 0 0 0 0 0 0 0 0 0 0 0 0 0 0 0 0\n",
      " 0 0 0 0 0 0 0 0 0 0 0 0 0 0 0 0 0 0 0 0 0 0 0 0 0 0 0 0 0 0 0 0 0 0 0 0 0\n",
      " 0 0 0 0 0 0 0 0 0 0 0 0 0 0 0 0 0 0 0 0 0 0 0 0 0 0 0 0 0 0 0 0 0 0 0 0 0\n",
      " 0 0 0 0 0 0 0 0 0 0 0 0 0 0 0 0 0 0 0 0 0 0 0 0 0 0 0 0 0 0 0 0 0 0 0 0 0\n",
      " 0 0 0 0 0 0 0 0 0 0 0 0 0 0 0 0 0 0 0 0 0 0 0 0 0 0 0 0 0 0 0 0 0 0 0 0 0\n",
      " 0 0 0 0 0 0 0 0 0 0 0 0 0 0 0 0 0 0 0 0 0 0 0 0 0 0 0 0 0 0 0 0 0 0 0 0 0\n",
      " 0 0 0 0 0 0 0 0 0 0 0 0 0 0 0 0 0 0 0 0 0 0 0 0 0 0 0 0 0 0 0 0 0 0 0 0 0\n",
      " 0 0 0 0 0 0 0 0 0 0 0 0 0 0 0 0 0 0 0 0 0 0 0 0 0 0 0 0 0 0 0 0 0 0 0 0 0\n",
      " 0 0 0 0 0 0 0 0 0 0 0 0 0 0 0 0 0 0 0 0 0 0 0 0 0 0 0 0 1 0 0 0 0 0 0 0 0\n",
      " 0 0 0 0 0 0 0 0 1 0 0 0 0 0 0 0 0 0 0 0 0 0 0 0 0 0 0 0 0 0 0 0 0 0 0 0 0\n",
      " 0 0 0 0 0 0 0 0 0 0 0 0 0 0 0 1 0 0 0 0 0 0 0 0 0 0 0 0 0 0 0 0 0 0 0 0 0\n",
      " 0 0 0 0 0 0 0 0 0 0 0 0 0 0 0 0 0 0 0 0 0 0 0 0 0 0 0 0 0 0 0 0 0 0 0 0 0\n",
      " 0 0 0 0 0 0 0 0 0 0 0 0 0 0 0 0 0 0 0 0 0 0 0 0 0 0 0 0 0 0 0 0 0 0 0 0 0\n",
      " 0 0]\n",
      "['Fever', 'Gestational_Diabetes', 'Postpartum_hemorrhage', 'Vertigo', 'activities', 'anemia', 'avoid_fish', 'avoid_food', 'baby_size', 'backache', 'benefits_exercise', 'body_shape', 'breast_changes', 'breast_tenderness', 'chorioamnionitis', 'coffee', 'common_colds', 'constipation', 'dentist', 'dizziness', 'exercise', 'fish', 'flu', 'food', 'goodbye', 'greeting', 'gums_swelling', 'hair_changes', 'hairdye', 'hemorrhoids', 'hours_exercise', 'increase_appetite', 'insomia', 'insomia_days', 'leg_swelling', 'legcramps', 'medicine_backache', 'medicine_colds', 'medicine_constipation', 'medicine_fever', 'medicine_flu', 'medicine_highblood', 'medicine_insomnia', 'medicine_morningsickness', 'medicine_sorethroat', 'medicine_vertigo', 'morningsickness', 'nosebleed', 'not_feeling_well', 'notice_pregnancy', 'okay', 'paint', 'preeclampsia', 'pregnancy_symptoms', 'safe_fish', 'sauna', 'sex', 'stretch_marks', 'symptoms1_commoncolds', 'symptoms1_morningsickness', 'thanks', 'tiredness', 'travel', 'uterus', 'week1', 'week10', 'week11', 'week12', 'week13', 'week14', 'week15', 'week16', 'week17', 'week18', 'week19', 'week2', 'week20', 'week21', 'week22', 'week23', 'week24', 'week25', 'week26', 'week27', 'week28', 'week29', 'week3', 'week30', 'week31', 'week32', 'week33', 'week34', 'week35', 'week36', 'week37', 'week38', 'week39', 'week4', 'week40', 'week41', 'week5', 'week6', 'week7', 'week8', 'week9', 'weight_gain', 'work']\n"
     ]
    }
   ],
   "source": [
    "p = bag_of_words(\"signs of pregnancy\", words)\n",
    "print (p)\n",
    "print (labels)"
   ]
  },
  {
   "cell_type": "code",
   "execution_count": 810,
   "metadata": {},
   "outputs": [],
   "source": [
    "def classify_local(sentence):\n",
    "    ERROR_THRESHOLD = 0.75\n",
    "\n",
    "    # generate probabilities from the model\n",
    "    results = model.predict([[bag_of_words(sentence, words)]])[0]\n",
    "    results_index = numpy.argmax(results)\n",
    "    tag = labels[results_index]\n",
    "    # filter out predictions below a threshold, and provide intent index\n",
    "    results = [[i,r] for i,r in enumerate(results) if r>ERROR_THRESHOLD]\n",
    "    # sort by strength of probability\n",
    "    results.sort(key=lambda x: x[1], reverse=True)\n",
    "    return_list = []\n",
    "\n",
    "    list_of_intents= data['intents']    \n",
    "    for i in list_of_intents:\n",
    "        if tag==i['tag'] :\n",
    "            result= random.choice(i['responses'])\n",
    "    \n",
    "    for r in results:\n",
    "        return_list.append((labels[r[0]], str(r[1])))\n",
    "        \n",
    "    return return_list, result"
   ]
  },
  {
   "cell_type": "code",
   "execution_count": 811,
   "metadata": {},
   "outputs": [
    {
     "name": "stdout",
     "output_type": "stream",
     "text": [
      "found in bag: sign\n",
      "found in bag: of\n",
      "found in bag: pregn\n"
     ]
    },
    {
     "data": {
      "text/plain": [
       "([('pregnancy_symptoms', '0.99999833')],\n",
       " 'You may feel extra tired in the early days of pregnancy. The most common sign of pregnancy is a missing period, but you might also experience nausea, heartburn, constipation, tiredness, or breast tenderness.')"
      ]
     },
     "execution_count": 811,
     "metadata": {},
     "output_type": "execute_result"
    }
   ],
   "source": [
    "classify_local('Signs of pregnancy?')"
   ]
  },
  {
   "cell_type": "code",
   "execution_count": 812,
   "metadata": {},
   "outputs": [
    {
     "name": "stdout",
     "output_type": "stream",
     "text": [
      "found in bag: can\n",
      "found in bag: i\n",
      "found in bag: drink\n",
      "found in bag: coff\n"
     ]
    },
    {
     "data": {
      "text/plain": [
       "([('coffee', '1.0')],\n",
       " 'Lots of studies have investigated a possible link between caffeine and a higher risk of miscarriage, but the results are unclear, according to the ACOG. The organization adds that a small daily dose of caffeine during pregnancy')"
      ]
     },
     "execution_count": 812,
     "metadata": {},
     "output_type": "execute_result"
    }
   ],
   "source": [
    "classify_local('can i drink black coffee?')"
   ]
  },
  {
   "cell_type": "code",
   "execution_count": 813,
   "metadata": {},
   "outputs": [
    {
     "name": "stdout",
     "output_type": "stream",
     "text": [
      "found in bag: can\n",
      "found in bag: i\n",
      "found in bag: eat\n",
      "found in bag: fish\n"
     ]
    },
    {
     "data": {
      "text/plain": [
       "([('fish', '0.99971026')],\n",
       " \"Eating enough of the right types of seafood is not only healthy but recommended for both you and your baby. Pregnant and breastfeeding women should eat 8 to 12 ounces (that's two to three servings) of low-mercury fish every week.\")"
      ]
     },
     "execution_count": 813,
     "metadata": {},
     "output_type": "execute_result"
    }
   ],
   "source": [
    "classify_local('can i eat fish?')"
   ]
  },
  {
   "cell_type": "code",
   "execution_count": 814,
   "metadata": {},
   "outputs": [
    {
     "name": "stdout",
     "output_type": "stream",
     "text": [
      "found in bag: is\n",
      "found in bag: it\n",
      "found in bag: okay\n",
      "found in bag: to\n",
      "found in bag: exerc\n",
      "found in bag: when\n",
      "found in bag: pregn\n"
     ]
    },
    {
     "data": {
      "text/plain": [
       "([('exercise', '0.96250695')],\n",
       " 'Yes mommy! Exercise is a good thing for normal, healthy pregnancies. For regular healthy women who are having a low-risk pregnancy, exercise is actually recommended')"
      ]
     },
     "execution_count": 814,
     "metadata": {},
     "output_type": "execute_result"
    }
   ],
   "source": [
    "classify_local('is it okay to exercise when pregnant?')"
   ]
  },
  {
   "cell_type": "code",
   "execution_count": 815,
   "metadata": {},
   "outputs": [
    {
     "name": "stdout",
     "output_type": "stream",
     "text": [
      "found in bag: ca\n",
      "found in bag: i\n",
      "found in bag: !\n"
     ]
    },
    {
     "data": {
      "text/plain": [
       "([], 'How long have you been experiencing this?')"
      ]
     },
     "execution_count": 815,
     "metadata": {},
     "output_type": "execute_result"
    }
   ],
   "source": [
    "classify_local('ca@n i drin@k black coffe3!@#?')"
   ]
  },
  {
   "cell_type": "code",
   "execution_count": 816,
   "metadata": {},
   "outputs": [
    {
     "name": "stdout",
     "output_type": "stream",
     "text": [
      "found in bag: sign\n",
      "found in bag: pregn\n"
     ]
    },
    {
     "data": {
      "text/plain": [
       "([('pregnancy_symptoms', '0.9999981')],\n",
       " 'You may feel extra tired in the early days of pregnancy. The most common sign of pregnancy is a missing period, but you might also experience nausea, heartburn, constipation, tiredness, or breast tenderness.')"
      ]
     },
     "execution_count": 816,
     "metadata": {},
     "output_type": "execute_result"
    }
   ],
   "source": [
    "classify_local('Sign$ 0f pregnancy###%%%?')"
   ]
  },
  {
   "cell_type": "code",
   "execution_count": 817,
   "metadata": {},
   "outputs": [
    {
     "name": "stdout",
     "output_type": "stream",
     "text": [
      "found in bag: i\n"
     ]
    },
    {
     "data": {
      "text/plain": [
       "([('symptoms1_morningsickness', '0.9900323')],\n",
       " 'Oh I see! What else are you feeling aside from that, mommy? Do you feel any of these; please type your symptoms. Vomiting, dizziness, nausea, double vision, Chest pain, Sweating, fatigue, dizziness, chills, alternating between feeling cold and feeling hot, migraine, Fainting, Shortness of breathe, high blood pressure, dark yellow urine, swelling, abdominal or shoulder pain, lower back pain, non-stop bleeding, low blood pressure, rapid heartbeat, anemia, sensation of spinning, laboured breathing, blurred vision, unusual vaginal discharge, fever, increased frequent urination, Weight loss, increased thirst?')"
      ]
     },
     "execution_count": 817,
     "metadata": {},
     "output_type": "execute_result"
    }
   ],
   "source": [
    "classify_local('Ca5n i ea@t fi$h?')"
   ]
  },
  {
   "cell_type": "code",
   "execution_count": 818,
   "metadata": {},
   "outputs": [
    {
     "name": "stdout",
     "output_type": "stream",
     "text": [
      "found in bag: is\n",
      "found in bag: !\n",
      "found in bag: !\n",
      "found in bag: exerc\n",
      "found in bag: !\n",
      "found in bag: pregn\n",
      "found in bag: !\n"
     ]
    },
    {
     "data": {
      "text/plain": [
       "([('exercise', '0.9790192')],\n",
       " 'Yes mommy! Exercise is a good thing for normal, healthy pregnancies. For regular healthy women who are having a low-risk pregnancy, exercise is actually recommended')"
      ]
     },
     "execution_count": 818,
     "metadata": {},
     "output_type": "execute_result"
    }
   ],
   "source": [
    "classify_local('is o!@#kay !@# exercise!@ pregnant!@#?')"
   ]
  },
  {
   "cell_type": "code",
   "execution_count": 819,
   "metadata": {},
   "outputs": [
    {
     "name": "stdout",
     "output_type": "stream",
     "text": [
      "found in bag: wil\n",
      "found in bag: i\n",
      "found in bag: !\n",
      "found in bag: im\n",
      "found in bag: !\n"
     ]
    },
    {
     "data": {
      "text/plain": [
       "([('pregnancy_symptoms', '0.83305484')],\n",
       " 'You may feel extra tired in the early days of pregnancy. The most common sign of pregnancy is a missing period, but you might also experience nausea, heartburn, constipation, tiredness, or breast tenderness.')"
      ]
     },
     "execution_count": 819,
     "metadata": {},
     "output_type": "execute_result"
    }
   ],
   "source": [
    "classify_local('wh3n will i n0otice!@# th@t im pr3gnant!@#?')"
   ]
  },
  {
   "cell_type": "code",
   "execution_count": 820,
   "metadata": {},
   "outputs": [
    {
     "name": "stdout",
     "output_type": "stream",
     "text": [
      "found in bag: me\n",
      "found in bag: is\n",
      "found in bag: not\n"
     ]
    },
    {
     "data": {
      "text/plain": [
       "([],\n",
       " 'Healthy pregnant women need at least 2Â½ hours of moderate-intensity aerobic activity each week. Aerobic activities make you breathe faster and deeply and make your heart beat faster. Moderate-intensity means youâ€™re active enough to sweat and increase your heart rate. Taking a brisk walk is an example of moderate-intensity aerobic activity.')"
      ]
     },
     "execution_count": 820,
     "metadata": {},
     "output_type": "execute_result"
    }
   ],
   "source": [
    "classify_local('Me is not ok?')"
   ]
  },
  {
   "cell_type": "code",
   "execution_count": 821,
   "metadata": {},
   "outputs": [
    {
     "name": "stdout",
     "output_type": "stream",
     "text": [
      "found in bag: is\n",
      "found in bag: okay\n",
      "found in bag: exerc\n",
      "found in bag: pregn\n"
     ]
    },
    {
     "data": {
      "text/plain": [
       "([('exercise', '0.9835231')],\n",
       " 'Yes mommy! Exercise is a good thing for normal, healthy pregnancies. For regular healthy women who are having a low-risk pregnancy, exercise is actually recommended')"
      ]
     },
     "execution_count": 821,
     "metadata": {},
     "output_type": "execute_result"
    }
   ],
   "source": [
    "classify_local('is okay exercise pregnant?')"
   ]
  },
  {
   "cell_type": "code",
   "execution_count": 822,
   "metadata": {},
   "outputs": [
    {
     "name": "stdout",
     "output_type": "stream",
     "text": [
      "found in bag: ankl\n",
      "found in bag: swel\n"
     ]
    },
    {
     "data": {
      "text/plain": [
       "([('leg_swelling', '0.99999976')],\n",
       " 'You cannot keep your legs and ankles from swelling but you can do things to make it better. Make sure that when you are sitting you elevate your legs. Your feet should ideally be higher than your heart. An easy way to do this is to sit in a recliner or on a couch with your feet propped up on the armrest. Avoid standing for long periods of time.')"
      ]
     },
     "execution_count": 822,
     "metadata": {},
     "output_type": "execute_result"
    }
   ],
   "source": [
    "classify_local('ankle swell')"
   ]
  },
  {
   "cell_type": "code",
   "execution_count": 823,
   "metadata": {},
   "outputs": [
    {
     "name": "stdout",
     "output_type": "stream",
     "text": [
      "found in bag: baby\n",
      "found in bag: when\n"
     ]
    },
    {
     "data": {
      "text/plain": [
       "([('baby_size', '0.99991643')], 'What week are you pregnant?')"
      ]
     },
     "execution_count": 823,
     "metadata": {},
     "output_type": "execute_result"
    }
   ],
   "source": [
    "classify_local('Baby move when?')"
   ]
  },
  {
   "cell_type": "code",
   "execution_count": 824,
   "metadata": {},
   "outputs": [
    {
     "name": "stdout",
     "output_type": "stream",
     "text": [
      "found in bag: blee\n",
      "found in bag: my\n",
      "found in bag: nos\n"
     ]
    },
    {
     "data": {
      "text/plain": [
       "([('nosebleed', '1.0')],\n",
       " 'The lining of the respiratory system receives more blood during pregnancy, causing congestion. This congestion might produce nasal stuffiness or nosebleeds. Increased blood pressure damages small blood vessels in the nose, causing nosebleeds. Congestion can be relieved with saline nasal spray. You can use a cool mist humidifier to relieve congestion and nose bleeds.')"
      ]
     },
     "execution_count": 824,
     "metadata": {},
     "output_type": "execute_result"
    }
   ],
   "source": [
    "classify_local('Bleed my nose')"
   ]
  }
 ],
 "metadata": {
  "interpreter": {
   "hash": "54f240b62b6ba81e9aec67ff459cee530f42f4eb5d6d3fcb25adf273e0f32809"
  },
  "kernelspec": {
   "display_name": "Python 3.9.8 64-bit",
   "language": "python",
   "name": "python3"
  },
  "language_info": {
   "codemirror_mode": {
    "name": "ipython",
    "version": 3
   },
   "file_extension": ".py",
   "mimetype": "text/x-python",
   "name": "python",
   "nbconvert_exporter": "python",
   "pygments_lexer": "ipython3",
   "version": "3.9.8"
  },
  "orig_nbformat": 4
 },
 "nbformat": 4,
 "nbformat_minor": 2
}
