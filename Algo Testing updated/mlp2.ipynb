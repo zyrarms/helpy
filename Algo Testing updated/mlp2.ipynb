{
 "cells": [
  {
   "cell_type": "code",
   "execution_count": 36,
   "metadata": {},
   "outputs": [
    {
     "data": {
      "text/html": [
       "<div>\n",
       "<style scoped>\n",
       "    .dataframe tbody tr th:only-of-type {\n",
       "        vertical-align: middle;\n",
       "    }\n",
       "\n",
       "    .dataframe tbody tr th {\n",
       "        vertical-align: top;\n",
       "    }\n",
       "\n",
       "    .dataframe thead th {\n",
       "        text-align: right;\n",
       "    }\n",
       "</style>\n",
       "<table border=\"1\" class=\"dataframe\">\n",
       "  <thead>\n",
       "    <tr style=\"text-align: right;\">\n",
       "      <th></th>\n",
       "      <th>Category</th>\n",
       "      <th>Questions</th>\n",
       "      <th>Answers</th>\n",
       "    </tr>\n",
       "  </thead>\n",
       "  <tbody>\n",
       "    <tr>\n",
       "      <th>0</th>\n",
       "      <td>pregnancy_genInfo</td>\n",
       "      <td>What are the early signs of pregnancy?</td>\n",
       "      <td>The most common sign of pregnancy is a missin...</td>\n",
       "    </tr>\n",
       "    <tr>\n",
       "      <th>1</th>\n",
       "      <td>pregnancy_genInfo</td>\n",
       "      <td>Early signs of pregnancy.</td>\n",
       "      <td>The most common sign of pregnancy is a missin...</td>\n",
       "    </tr>\n",
       "    <tr>\n",
       "      <th>2</th>\n",
       "      <td>pregnancy_genInfo</td>\n",
       "      <td>What are the symptoms of pregnancy?</td>\n",
       "      <td>The most common sign of pregnancy is a missin...</td>\n",
       "    </tr>\n",
       "    <tr>\n",
       "      <th>3</th>\n",
       "      <td>pregnancy_genInfo</td>\n",
       "      <td>Signs of pregnancy.</td>\n",
       "      <td>The most common sign of pregnancy is a missin...</td>\n",
       "    </tr>\n",
       "    <tr>\n",
       "      <th>4</th>\n",
       "      <td>pregnancy_genInfo</td>\n",
       "      <td>Common signs of pregnancy</td>\n",
       "      <td>The most common sign of pregnancy is a missin...</td>\n",
       "    </tr>\n",
       "  </tbody>\n",
       "</table>\n",
       "</div>"
      ],
      "text/plain": [
       "            Category                               Questions  \\\n",
       "0  pregnancy_genInfo  What are the early signs of pregnancy?   \n",
       "1  pregnancy_genInfo               Early signs of pregnancy.   \n",
       "2  pregnancy_genInfo     What are the symptoms of pregnancy?   \n",
       "3  pregnancy_genInfo                     Signs of pregnancy.   \n",
       "4  pregnancy_genInfo               Common signs of pregnancy   \n",
       "\n",
       "                                             Answers  \n",
       "0   The most common sign of pregnancy is a missin...  \n",
       "1   The most common sign of pregnancy is a missin...  \n",
       "2   The most common sign of pregnancy is a missin...  \n",
       "3   The most common sign of pregnancy is a missin...  \n",
       "4   The most common sign of pregnancy is a missin...  "
      ]
     },
     "execution_count": 36,
     "metadata": {},
     "output_type": "execute_result"
    }
   ],
   "source": [
    "#load dataset\n",
    "\n",
    "import pandas as pd\n",
    "\n",
    "dataset = pd.read_csv('preggybot_datasets.csv', encoding= 'unicode_escape')\n",
    "dataset.head()"
   ]
  },
  {
   "cell_type": "code",
   "execution_count": 37,
   "metadata": {},
   "outputs": [
    {
     "name": "stdout",
     "output_type": "stream",
     "text": [
      "{'early': 167, 'signs': 368, 'pregnancy': 313, 'symptoms': 393, 'common': 136, 'know': 245, 'pregnant': 314, 'missed': 272, 'period': 303, 'im': 233, 'having': 219, 'nausea': 279, 'havin': 218, 'heartburn': 224, 'constipation': 141, 'normal': 287, 'experiencing': 182, 'breast': 116, 'tenderness': 398, 'terder': 400, 'tender': 397, 'notice': 289, 'soon': 378, 'long': 254, 'start': 383, 'week': 446, 'occur': 294, 'quickly': 321, 'does': 159, 'drink': 162, 'caffeine': 120, 'coffee': 131, 'okay': 295, 'safe': 344, 'want': 443, 'drinking': 163, 'bad': 98, 'good': 213, 'weight': 448, 'expect': 179, 'gain': 209, 'range': 322, 'gane': 210, 'desired': 155, 'travel': 414, 'drive': 164, 'driving': 165, 'exercise': 176, 'recommended': 327, 'woman': 449, 'important': 234, 'need': 280, 'hours': 230, 'atleast': 89, 'kinds': 243, 'activities': 78, 'recommend': 325, 'exercises': 177, 'benefits': 102, 'advantages': 79, 'andvantages': 83, 'feel': 189, 'dizzy': 158, 'tired': 412, 'women': 450, 'exhausted': 178, 'time': 410, 'usual': 430, 'fatigued': 188, 'cause': 123, 'eat': 168, 'appetite': 88, 'increase': 235, 'hungry': 231, 'crave': 148, 'food': 200, 'true': 418, 'makes': 263, 'increasing': 237, 'foods': 201, 'avoid': 90, 'expecting': 181, 'child': 128, 'stay': 384, 'away': 93, 'eating': 169, 'abstain': 75, 'avoided': 91, 'limit': 252, 'restrictions': 336, 'consume': 142, 'fish': 198, 'safely': 345, 'seafood': 350, 'intake': 240, 'types': 424, 'sort': 380, 'thati': 401, 'sorts': 381, 'best': 103, 'shark': 362, 'swordfish': 392, 'orange': 296, 'roughy': 342, 'bigeye': 105, 'tuna': 421, 'marlin': 265, 'king': 244, 'mackerel': 262, 'salmon': 346, 'anchovies': 82, 'herring': 226, 'sardines': 347, 'freshwater': 208, 'trout': 417, 'pacific': 297, 'shrimp': 365, 'pollock': 307, 'tilapia': 409, 'cod': 130, 'catfish': 122, 'canned': 121, 'light': 250, 'work': 451, 'working': 452, 'going': 212, 'uterus': 432, 'return': 338, 'size': 372, 'shrink': 366, 'recover': 328, 'revert': 339, 'resume': 337, 'sexual': 359, 'intercourse': 241, 'sex': 358, 'waiting': 440, 'required': 335, 'dentist': 154, 'visit': 437, 'prevent': 316, 'legs': 249, 'ankles': 86, 'swelling': 390, 'leg': 248, 'ankle': 85, 'constipated': 140, 'bloated': 111, 'suffering': 388, 'problem': 318, 'problems': 319, 'hemorrhoids': 225, 'rid': 340, 'treat': 415, 'causes': 124, 'backache': 95, 'hurts': 232, 'backaches': 96, 'backahes': 97, 'cramps': 147, 'crampings': 146, 'gums': 214, 'bleed': 107, 'bleeding': 109, 'body': 114, 'shape': 361, 'changes': 126, 'postural': 310, 'change': 125, 'happen': 216, 'posture': 311, 'begin': 101, 'related': 329, 'postures': 312, 'breasts': 117, 'natural': 278, 'considered': 139, 'expected': 180, 'fetal': 193, 'movement': 275, 'usually': 431, 'felt': 192, 'noticeable': 290, 'baby': 94, 'hair': 215, 'loss': 259, 'losing': 258, 'lose': 257, 'affect': 80, 'stretch': 386, 'marks': 264, 'prevented': 317, 'avoiding': 92, 'way': 445, 'getting': 211, 'remedy': 331, 'fade': 184, 'possible': 308, 'removed': 334, 'removable': 332, 'remove': 333, 'nose': 288, 'congested': 137, 'bleeds': 110, 'congestion': 138, 'bled': 106, 'shall': 360, 'swollen': 391, 'perm': 304, 'color': 133, 'perming': 306, 'dye': 166, 'like': 251, 'coloring': 135, 'fine': 197, 'right': 341, 'permed': 305, 'colored': 134, 'saunas': 349, 'sauna': 348, 'use': 429, 'hot': 229, 'tubs': 420, 'tub': 419, 'baths': 99, 'tanning': 395, 'booths': 115, 'tan': 394, 'paint': 299, 'painting': 300, 'think': 402, 'big': 104, 'current': 149, 'look': 255, 'appearance': 87, 'number': 292, '1st': 20, '2nd': 41, 'second': 351, 'weeks': 447, '3rd': 62, '4th': 68, 'fourth': 205, '5th': 69, 'fifth': 196, '6th': 70, 'sixth': 371, '7th': 71, 'seven': 353, 'seventh': 356, '8th': 72, 'eigth': 173, 'eighth': 172, '9th': 73, 'ninth': 285, '10': 0, '10th': 1, 'tenth': 399, '11': 2, '11th': 3, 'eleventh': 174, '12': 4, '12th': 5, 'twelfth': 422, '13': 6, '13th': 7, 'thirteen': 404, 'thirteenth': 405, '14': 8, '14th': 9, 'fourteen': 203, 'fourteenth': 204, '15': 10, '15th': 11, 'fifteenth': 195, '16': 12, '16th': 13, 'sixteen': 369, 'sixteenth': 370, '17': 14, '17th': 15, 'seventeen': 354, 'seventeenth': 355, '18': 16, '18th': 17, 'eighteen': 170, 'eighteenth': 171, '19': 18, '19th': 19, 'nineteen': 283, 'nineteenth': 284, '20': 21, '20th': 22, 'twentieth': 423, '21': 23, '21st': 24, '22': 25, '22nd': 26, '23': 27, '23rd': 28, '24': 29, '24th': 30, '25': 31, '25th': 32, '26': 33, '26th': 34, '27': 35, '27th': 36, '28': 37, '28th': 38, '29': 39, '29th': 40, '30': 42, '30th': 43, 'thirty': 407, 'thirtieth': 406, '31': 44, '31st': 45, '32': 46, '32nd': 47, '33': 48, '33rd': 49, '34': 50, '34th': 51, '35': 52, '35th': 53, '36': 54, '36th': 55, '37': 56, '37th': 57, '38': 58, '38th': 59, '39': 60, '39th': 61, '40': 63, '40th': 64, 'fortieth': 202, '41': 65, '41st': 67, '41cweeks': 66, 'feeling': 190, 'don': 160, 'feelling': 191, 'runny': 343, 'stuffy': 387, 'cough': 143, 'chills': 129, 'sore': 379, 'throat': 408, 'aches': 77, 'headaches': 221, 'coughing': 144, 'watery': 444, 'eyes': 183, 'fever': 194, 'rcoughing': 324, 'headache': 220, 'vomiting': 439, 'tiredness': 413, 'sneezing': 377, 'vomit': 438, 'fatigue': 187, 'cold': 132, 'sweating': 389, 'chest': 127, 'pain': 298, 'shortness': 363, 'breathe': 118, 'numbness': 293, 'tingling': 411, 'numb': 291, 'double': 161, 'vision': 436, 'irregular': 242, 'heartbeat': 223, 'heart': 222, 'beats': 100, 'fast': 186, 'high': 227, 'blood': 112, 'pressure': 315, 'highblood': 228, 'pee': 302, 'dark': 150, 'yellow': 453, 'urine': 428, 'migraine': 271, 'severe': 357, 'abdominal': 74, 'lower': 261, 'stop': 385, 'low': 260, 'post': 309, 'delivery': 153, 'pale': 301, 'lips': 253, 'nails': 277, 'vertigo': 435, 'sensation': 352, 'spinning': 382, 'temperature': 396, 'discharge': 156, 'vagina': 433, 'unusual': 426, 'smell': 376, 'vaginal': 434, 'frequently': 207, 'increased': 236, 'loosing': 256, 'fainting': 185, 'dizziness': 157, 'alternating': 81, 'shoulder': 364, 'non': 286, 'rapid': 323, 'anemia': 84, 'bleedin': 108, 'laboured': 246, 'breathing': 119, 'skin': 373, 'frequent': 206, 'urination': 427, 'thirst': 403, 'blurred': 113, 'sleep': 374, 'lack': 247, 'properly': 320, 'trouble': 416, 'sleeping': 375, 'unable': 425, 'night': 281, 'hard': 217, 'wake': 441, 'middle': 270, 'waking': 442, 'nights': 282, 'days': 152, 'everyday': 175, 'day': 151, 'month': 273, 'medicine': 269, 'nadecine': 276, 'recommendation': 326, 'remedies': 330, 'medcine': 266, 'medicinal': 268, 'counter': 145, 'medecines': 267, 'insomnia': 239, 'insomia': 238, 'flu': 199, 'ache': 76, 'morning': 274, 'sickness': 367}\n"
     ]
    }
   ],
   "source": [
    "# create vectorizer to calculate each word. this will serve as the vocabulary\n",
    "\n",
    "from sklearn.feature_extraction.text import CountVectorizer\n",
    "\n",
    "vectorizer = CountVectorizer(stop_words= 'english')\n",
    "\n",
    "# To actuallt create the vectorizer, we simply need to call fit in the text data that we want to fix\n",
    "vectorizer.fit(dataset['Questions'])\n",
    "\n",
    "# Now, we can inspect how our vectorizer vectorized the texy\n",
    "# This will print out a list of words used and their index in the vectors\n",
    "print(vectorizer.vocabulary_)\n",
    "\n",
    "# if we would like to actually create a vector, \n",
    "# we can do so by passing the dataset into the vectorizer to get the back counts\n",
    "vector = vectorizer.transform(dataset['Questions'])"
   ]
  },
  {
   "cell_type": "code",
   "execution_count": 38,
   "metadata": {},
   "outputs": [
    {
     "name": "stdout",
     "output_type": "stream",
     "text": [
      "Accuracy score: 98.92086330935251\n",
      "Precision score: 98.94956842733838\n",
      "F1 Score score: 98.86996463558393\n",
      "Recall score: 98.79329004329006\n"
     ]
    }
   ],
   "source": [
    "# creating and testing the model\n",
    "from sklearn.neural_network import MLPClassifier\n",
    "from sklearn.model_selection import train_test_split\n",
    "\n",
    "X_train_matrix = vector\n",
    "y = dataset[\"Category\"]\n",
    "\n",
    "X_train, X_test, y_train, y_test = train_test_split(X_train_matrix, y, test_size=0.2)\n",
    "\n",
    "mlpModel = MLPClassifier(hidden_layer_sizes=(10, 10, 10), max_iter=1000)\n",
    "mlpModel.fit(X_train, y_train.values.ravel())\n",
    "\n",
    "y_pred = mlpModel.predict(X_test)\n",
    "\n",
    "\n",
    "# Testing of accuracy, precision, recall and f1 score\n",
    "from sklearn import metrics\n",
    "\n",
    "acc_score = metrics.accuracy_score(y_test, y_pred)\n",
    "precision_score = metrics.precision_score(y_test, y_pred, average='macro')\n",
    "recall_score = metrics.recall_score(y_test, y_pred, average='macro')\n",
    "f1_score = metrics.f1_score(y_test, y_pred, average='macro')\n",
    "\n",
    "print('Accuracy score: {}'.format(acc_score*100))\n",
    "print('Precision score: {}'.format(precision_score*100))\n",
    "print('F1 Score score: {}'.format(f1_score*100))\n",
    "print('Recall score: {}'.format(recall_score*100))"
   ]
  },
  {
   "cell_type": "code",
   "execution_count": 39,
   "metadata": {},
   "outputs": [
    {
     "name": "stdout",
     "output_type": "stream",
     "text": [
      "Kappa Score: 97.73995989377269\n",
      "Mattheews Corrcoef Score: 97.74273353593081\n"
     ]
    }
   ],
   "source": [
    "from sklearn.metrics import cohen_kappa_score, matthews_corrcoef\n",
    "\n",
    "cohen_score = cohen_kappa_score(y_test, y_pred)\n",
    "print(('Kappa Score: {}'.format(cohen_score*100)))\n",
    "\n",
    "mcc = matthews_corrcoef(y_test, y_pred)\n",
    "print(('Mattheews Corrcoef Score: {}'.format(mcc*100)))"
   ]
  },
  {
   "cell_type": "code",
   "execution_count": 40,
   "metadata": {},
   "outputs": [
    {
     "name": "stdout",
     "output_type": "stream",
     "text": [
      "Confusion Matrix\n",
      "\n",
      "\n",
      "True Positive(TP) = 108\n",
      "True Negatives(TN) = 167\n",
      "False Positive(FP) = 2\n",
      "False Negative(FN) = 1\n"
     ]
    }
   ],
   "source": [
    "import seaborn as sns\n",
    "import matplotlib.pyplot as plt\n",
    "from sklearn.metrics import confusion_matrix, ConfusionMatrixDisplay\n",
    "\n",
    "# Print the Confusion Matrix\n",
    "cm = confusion_matrix(y_test, y_pred, )\n",
    "print(\"Confusion Matrix\\n\")\n",
    "\n",
    "print('\\nTrue Positive(TP) =', cm[0,0])\n",
    "print('True Negatives(TN) =', cm[1,1])\n",
    "print('False Positive(FP) =', cm[0,1])\n",
    "print('False Negative(FN) =', cm[1,0])"
   ]
  },
  {
   "cell_type": "code",
   "execution_count": 41,
   "metadata": {},
   "outputs": [
    {
     "name": "stdout",
     "output_type": "stream",
     "text": [
      "Specificity : 0.9882\n",
      "False Positive Rate : 0.0118\n",
      "False Negative Rate : 0.0092\n"
     ]
    }
   ],
   "source": [
    "from sklearn.metrics import matthews_corrcoef\n",
    "\n",
    "TP = cm[0,0]\n",
    "TN = cm[1,1]\n",
    "FP = cm[0,1]\n",
    "FN = cm[1,0]\n",
    "\n",
    "# print classification accuracy\n",
    "\n",
    "specificity = TN / (TN + FP)\n",
    "print('Specificity : {0:0.4f}'.format(specificity))\n",
    "\n",
    "false_positive_rate = FP / float(FP + TN)\n",
    "print('False Positive Rate : {0:0.4f}'.format(false_positive_rate))\n",
    "\n",
    "false_negative_rate = FN/(TP+FN)\n",
    "print('False Negative Rate : {0:0.4f}'.format(false_negative_rate))"
   ]
  },
  {
   "cell_type": "code",
   "execution_count": 42,
   "metadata": {},
   "outputs": [
    {
     "name": "stdout",
     "output_type": "stream",
     "text": [
      "Question:  ['signs of pregnancy?']\n",
      "  (0, 313)\t1\n",
      "  (0, 368)\t1\n",
      "Answer:  ['pregnancy_genInfo']\n"
     ]
    }
   ],
   "source": [
    "# user query prediction\n",
    "\n",
    "query = [\"signs of pregnancy?\"]\n",
    "print (\"Question: \", query)\n",
    "\n",
    "vector_query = vectorizer.transform(query)\n",
    "print(vector_query)\n",
    "\n",
    "prediction = mlpModel.predict(vector_query)\n",
    "\n",
    "print(\"Answer: \", prediction)"
   ]
  }
 ],
 "metadata": {
  "interpreter": {
   "hash": "e41cac4bfb0d046e6dad6ddf212cb5350ad35d59a9f5f6b01f24bc02560be9f0"
  },
  "kernelspec": {
   "display_name": "Python 3.9.7 64-bit",
   "name": "python3"
  },
  "language_info": {
   "codemirror_mode": {
    "name": "ipython",
    "version": 3
   },
   "file_extension": ".py",
   "mimetype": "text/x-python",
   "name": "python",
   "nbconvert_exporter": "python",
   "pygments_lexer": "ipython3",
   "version": "3.9.8"
  },
  "orig_nbformat": 4
 },
 "nbformat": 4,
 "nbformat_minor": 2
}
